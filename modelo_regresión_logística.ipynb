{
 "cells": [
  {
   "cell_type": "markdown",
   "metadata": {},
   "source": [
    "# **REGRESIÓN LOGÍSTICA**\n",
    "\n",
    "En este notebook crearemos un modelo de regresión logística para predecir si los clientes renovarán equipo o no.\n",
    "\n",
    "Para ello iteraremos sobre distintos hiperparámetros y así obtener el modelo óptimo."
   ]
  },
  {
   "cell_type": "code",
   "execution_count": 2,
   "metadata": {},
   "outputs": [],
   "source": [
    "import pandas as pd\n",
    "import numpy as np\n",
    "import matplotlib.pyplot as plt\n",
    "import seaborn as sns\n",
    "%matplotlib inline\n",
    "\n",
    "from sklearn.preprocessing import MinMaxScaler\n",
    "from sklearn.pipeline import Pipeline\n",
    "from sklearn.model_selection import train_test_split\n",
    "from sklearn.linear_model import LogisticRegression\n",
    "from sklearn.metrics import f1_score, roc_auc_score"
   ]
  },
  {
   "cell_type": "code",
   "execution_count": 3,
   "metadata": {},
   "outputs": [
    {
     "data": {
      "text/html": [
       "<div>\n",
       "<style scoped>\n",
       "    .dataframe tbody tr th:only-of-type {\n",
       "        vertical-align: middle;\n",
       "    }\n",
       "\n",
       "    .dataframe tbody tr th {\n",
       "        vertical-align: top;\n",
       "    }\n",
       "\n",
       "    .dataframe thead th {\n",
       "        text-align: right;\n",
       "    }\n",
       "</style>\n",
       "<table border=\"1\" class=\"dataframe\">\n",
       "  <thead>\n",
       "    <tr style=\"text-align: right;\">\n",
       "      <th></th>\n",
       "      <th>NUMPERIODO</th>\n",
       "      <th>nro_documento_hash</th>\n",
       "      <th>nro_telefono_hash</th>\n",
       "      <th>FECACTIVACIONCONTRATO_INT</th>\n",
       "      <th>FECINGRESOCLIENTE_INT</th>\n",
       "      <th>tipo1</th>\n",
       "      <th>tipo2</th>\n",
       "      <th>VCHMESADENDA</th>\n",
       "      <th>VCHPENALIDAD</th>\n",
       "      <th>alto</th>\n",
       "      <th>...</th>\n",
       "      <th>trafico_app_8</th>\n",
       "      <th>trafico_app_9</th>\n",
       "      <th>trafico_total</th>\n",
       "      <th>GIRO</th>\n",
       "      <th>SUBGIRO</th>\n",
       "      <th>TIENE_PROD_1</th>\n",
       "      <th>TIENE_PROD_2</th>\n",
       "      <th>TIENE_PROD_3</th>\n",
       "      <th>TARGET</th>\n",
       "      <th>PREV_TARGET</th>\n",
       "    </tr>\n",
       "  </thead>\n",
       "  <tbody>\n",
       "    <tr>\n",
       "      <th>0</th>\n",
       "      <td>202201</td>\n",
       "      <td>5f58359a37ac456d9050c75aa36720b73063bf4b77f483...</td>\n",
       "      <td>9be57e3928a78ae85be270575f97e82a6bdbd59fc87281...</td>\n",
       "      <td>1072320.0</td>\n",
       "      <td>902100.0</td>\n",
       "      <td>1</td>\n",
       "      <td>0</td>\n",
       "      <td>0.0</td>\n",
       "      <td>0.00</td>\n",
       "      <td>1.0</td>\n",
       "      <td>...</td>\n",
       "      <td>0.000000</td>\n",
       "      <td>0.0</td>\n",
       "      <td>16606.140346</td>\n",
       "      <td>3e33e191fc2f1513037662f262867a04e278e8a0589a32...</td>\n",
       "      <td>8e0b81ed56b34766254d0492d32fa9d5d08a33690db2b6...</td>\n",
       "      <td>1</td>\n",
       "      <td>0</td>\n",
       "      <td>0</td>\n",
       "      <td>0.0</td>\n",
       "      <td>0.0</td>\n",
       "    </tr>\n",
       "    <tr>\n",
       "      <th>1</th>\n",
       "      <td>202201</td>\n",
       "      <td>ea411834dcd05b9e5eb4e1bed1a6b99250b33a4293fe46...</td>\n",
       "      <td>119dd6dff66e259a3996de7d885e2c54e8ed5874239346...</td>\n",
       "      <td>1072680.0</td>\n",
       "      <td>781560.0</td>\n",
       "      <td>1</td>\n",
       "      <td>0</td>\n",
       "      <td>7.6</td>\n",
       "      <td>365.57</td>\n",
       "      <td>1.0</td>\n",
       "      <td>...</td>\n",
       "      <td>180.536775</td>\n",
       "      <td>0.0</td>\n",
       "      <td>3705.222886</td>\n",
       "      <td>a9d0bcb92394bd06ed0e020135054d2dbf3e512fdf0b7f...</td>\n",
       "      <td>e159ded5abcf126e18b05856319e4a4ee58a3267f298fd...</td>\n",
       "      <td>1</td>\n",
       "      <td>0</td>\n",
       "      <td>0</td>\n",
       "      <td>0.0</td>\n",
       "      <td>0.0</td>\n",
       "    </tr>\n",
       "    <tr>\n",
       "      <th>2</th>\n",
       "      <td>202201</td>\n",
       "      <td>ea411834dcd05b9e5eb4e1bed1a6b99250b33a4293fe46...</td>\n",
       "      <td>73cec44593f362cccdb45773197a0bf2136978cb241c91...</td>\n",
       "      <td>1072680.0</td>\n",
       "      <td>781560.0</td>\n",
       "      <td>1</td>\n",
       "      <td>0</td>\n",
       "      <td>0.0</td>\n",
       "      <td>0.00</td>\n",
       "      <td>0.0</td>\n",
       "      <td>...</td>\n",
       "      <td>980.521564</td>\n",
       "      <td>0.0</td>\n",
       "      <td>4617.043791</td>\n",
       "      <td>a9d0bcb92394bd06ed0e020135054d2dbf3e512fdf0b7f...</td>\n",
       "      <td>e159ded5abcf126e18b05856319e4a4ee58a3267f298fd...</td>\n",
       "      <td>1</td>\n",
       "      <td>0</td>\n",
       "      <td>0</td>\n",
       "      <td>0.0</td>\n",
       "      <td>0.0</td>\n",
       "    </tr>\n",
       "    <tr>\n",
       "      <th>3</th>\n",
       "      <td>202201</td>\n",
       "      <td>ea411834dcd05b9e5eb4e1bed1a6b99250b33a4293fe46...</td>\n",
       "      <td>db86e518af696d60b247466fd1bb5823cf81a9442c16b2...</td>\n",
       "      <td>1072680.0</td>\n",
       "      <td>781560.0</td>\n",
       "      <td>0</td>\n",
       "      <td>1</td>\n",
       "      <td>0.0</td>\n",
       "      <td>0.00</td>\n",
       "      <td>0.0</td>\n",
       "      <td>...</td>\n",
       "      <td>0.000000</td>\n",
       "      <td>0.0</td>\n",
       "      <td>0.000000</td>\n",
       "      <td>a9d0bcb92394bd06ed0e020135054d2dbf3e512fdf0b7f...</td>\n",
       "      <td>e159ded5abcf126e18b05856319e4a4ee58a3267f298fd...</td>\n",
       "      <td>1</td>\n",
       "      <td>0</td>\n",
       "      <td>0</td>\n",
       "      <td>0.0</td>\n",
       "      <td>0.0</td>\n",
       "    </tr>\n",
       "    <tr>\n",
       "      <th>4</th>\n",
       "      <td>202201</td>\n",
       "      <td>ea411834dcd05b9e5eb4e1bed1a6b99250b33a4293fe46...</td>\n",
       "      <td>90d5ab1ad28da36b0fa821759b0a9df2b248dc92a557a5...</td>\n",
       "      <td>1072680.0</td>\n",
       "      <td>781560.0</td>\n",
       "      <td>1</td>\n",
       "      <td>0</td>\n",
       "      <td>0.0</td>\n",
       "      <td>0.00</td>\n",
       "      <td>1.0</td>\n",
       "      <td>...</td>\n",
       "      <td>37.027894</td>\n",
       "      <td>0.0</td>\n",
       "      <td>450.053533</td>\n",
       "      <td>a9d0bcb92394bd06ed0e020135054d2dbf3e512fdf0b7f...</td>\n",
       "      <td>e159ded5abcf126e18b05856319e4a4ee58a3267f298fd...</td>\n",
       "      <td>1</td>\n",
       "      <td>0</td>\n",
       "      <td>0</td>\n",
       "      <td>0.0</td>\n",
       "      <td>0.0</td>\n",
       "    </tr>\n",
       "  </tbody>\n",
       "</table>\n",
       "<p>5 rows × 68 columns</p>\n",
       "</div>"
      ],
      "text/plain": [
       "   NUMPERIODO                                 nro_documento_hash  \\\n",
       "0      202201  5f58359a37ac456d9050c75aa36720b73063bf4b77f483...   \n",
       "1      202201  ea411834dcd05b9e5eb4e1bed1a6b99250b33a4293fe46...   \n",
       "2      202201  ea411834dcd05b9e5eb4e1bed1a6b99250b33a4293fe46...   \n",
       "3      202201  ea411834dcd05b9e5eb4e1bed1a6b99250b33a4293fe46...   \n",
       "4      202201  ea411834dcd05b9e5eb4e1bed1a6b99250b33a4293fe46...   \n",
       "\n",
       "                                   nro_telefono_hash  \\\n",
       "0  9be57e3928a78ae85be270575f97e82a6bdbd59fc87281...   \n",
       "1  119dd6dff66e259a3996de7d885e2c54e8ed5874239346...   \n",
       "2  73cec44593f362cccdb45773197a0bf2136978cb241c91...   \n",
       "3  db86e518af696d60b247466fd1bb5823cf81a9442c16b2...   \n",
       "4  90d5ab1ad28da36b0fa821759b0a9df2b248dc92a557a5...   \n",
       "\n",
       "   FECACTIVACIONCONTRATO_INT  FECINGRESOCLIENTE_INT  tipo1  tipo2  \\\n",
       "0                  1072320.0               902100.0      1      0   \n",
       "1                  1072680.0               781560.0      1      0   \n",
       "2                  1072680.0               781560.0      1      0   \n",
       "3                  1072680.0               781560.0      0      1   \n",
       "4                  1072680.0               781560.0      1      0   \n",
       "\n",
       "   VCHMESADENDA  VCHPENALIDAD  alto  ...  trafico_app_8  trafico_app_9  \\\n",
       "0           0.0          0.00   1.0  ...       0.000000            0.0   \n",
       "1           7.6        365.57   1.0  ...     180.536775            0.0   \n",
       "2           0.0          0.00   0.0  ...     980.521564            0.0   \n",
       "3           0.0          0.00   0.0  ...       0.000000            0.0   \n",
       "4           0.0          0.00   1.0  ...      37.027894            0.0   \n",
       "\n",
       "   trafico_total                                               GIRO  \\\n",
       "0   16606.140346  3e33e191fc2f1513037662f262867a04e278e8a0589a32...   \n",
       "1    3705.222886  a9d0bcb92394bd06ed0e020135054d2dbf3e512fdf0b7f...   \n",
       "2    4617.043791  a9d0bcb92394bd06ed0e020135054d2dbf3e512fdf0b7f...   \n",
       "3       0.000000  a9d0bcb92394bd06ed0e020135054d2dbf3e512fdf0b7f...   \n",
       "4     450.053533  a9d0bcb92394bd06ed0e020135054d2dbf3e512fdf0b7f...   \n",
       "\n",
       "                                             SUBGIRO  TIENE_PROD_1  \\\n",
       "0  8e0b81ed56b34766254d0492d32fa9d5d08a33690db2b6...             1   \n",
       "1  e159ded5abcf126e18b05856319e4a4ee58a3267f298fd...             1   \n",
       "2  e159ded5abcf126e18b05856319e4a4ee58a3267f298fd...             1   \n",
       "3  e159ded5abcf126e18b05856319e4a4ee58a3267f298fd...             1   \n",
       "4  e159ded5abcf126e18b05856319e4a4ee58a3267f298fd...             1   \n",
       "\n",
       "   TIENE_PROD_2  TIENE_PROD_3  TARGET  PREV_TARGET  \n",
       "0             0             0     0.0          0.0  \n",
       "1             0             0     0.0          0.0  \n",
       "2             0             0     0.0          0.0  \n",
       "3             0             0     0.0          0.0  \n",
       "4             0             0     0.0          0.0  \n",
       "\n",
       "[5 rows x 68 columns]"
      ]
     },
     "execution_count": 3,
     "metadata": {},
     "output_type": "execute_result"
    }
   ],
   "source": [
    "train = pd.read_csv(\"Dataset train.csv\")\n",
    "train.head()"
   ]
  },
  {
   "cell_type": "code",
   "execution_count": 110,
   "metadata": {},
   "outputs": [
    {
     "data": {
      "text/html": [
       "<div>\n",
       "<style scoped>\n",
       "    .dataframe tbody tr th:only-of-type {\n",
       "        vertical-align: middle;\n",
       "    }\n",
       "\n",
       "    .dataframe tbody tr th {\n",
       "        vertical-align: top;\n",
       "    }\n",
       "\n",
       "    .dataframe thead th {\n",
       "        text-align: right;\n",
       "    }\n",
       "</style>\n",
       "<table border=\"1\" class=\"dataframe\">\n",
       "  <thead>\n",
       "    <tr style=\"text-align: right;\">\n",
       "      <th></th>\n",
       "      <th>NUMPERIODO</th>\n",
       "      <th>nro_documento_hash</th>\n",
       "      <th>nro_telefono_hash</th>\n",
       "      <th>FECACTIVACIONCONTRATO_INT</th>\n",
       "      <th>FECINGRESOCLIENTE_INT</th>\n",
       "      <th>tipo1</th>\n",
       "      <th>tipo2</th>\n",
       "      <th>VCHMESADENDA</th>\n",
       "      <th>VCHPENALIDAD</th>\n",
       "      <th>alto</th>\n",
       "      <th>...</th>\n",
       "      <th>trafico_app_8</th>\n",
       "      <th>trafico_app_9</th>\n",
       "      <th>trafico_total</th>\n",
       "      <th>GIRO</th>\n",
       "      <th>SUBGIRO</th>\n",
       "      <th>TIENE_PROD_1</th>\n",
       "      <th>TIENE_PROD_2</th>\n",
       "      <th>TIENE_PROD_3</th>\n",
       "      <th>TARGET</th>\n",
       "      <th>PREV_TARGET</th>\n",
       "    </tr>\n",
       "  </thead>\n",
       "  <tbody>\n",
       "    <tr>\n",
       "      <th>0</th>\n",
       "      <td>202204</td>\n",
       "      <td>5848c849c6e33ff61bc87f63781cec2cf5a38811446ec1...</td>\n",
       "      <td>ac8e7810e7d278b75f99a38183357eb28a2cb582f1875a...</td>\n",
       "      <td>1080060.0</td>\n",
       "      <td>1079280.0</td>\n",
       "      <td>1</td>\n",
       "      <td>0</td>\n",
       "      <td>0.0</td>\n",
       "      <td>0.0</td>\n",
       "      <td>0.0</td>\n",
       "      <td>...</td>\n",
       "      <td>0.000000</td>\n",
       "      <td>0.0</td>\n",
       "      <td>21631.486330</td>\n",
       "      <td>5b8e595b8cebb006e39a3d289e465a5718996785008cbb...</td>\n",
       "      <td>bd1b475ded03bdb3ab78de2f74782ad855c3c4b085d167...</td>\n",
       "      <td>0</td>\n",
       "      <td>0</td>\n",
       "      <td>0</td>\n",
       "      <td>NaN</td>\n",
       "      <td>0.0</td>\n",
       "    </tr>\n",
       "    <tr>\n",
       "      <th>1</th>\n",
       "      <td>202204</td>\n",
       "      <td>4623594982b1da7de047b2a10eba7533cc83a1b242167d...</td>\n",
       "      <td>93d2534f78d216261f0e0ce2e4d3e938f1d03fb8a4c766...</td>\n",
       "      <td>1080060.0</td>\n",
       "      <td>993180.0</td>\n",
       "      <td>1</td>\n",
       "      <td>0</td>\n",
       "      <td>0.0</td>\n",
       "      <td>0.0</td>\n",
       "      <td>1.0</td>\n",
       "      <td>...</td>\n",
       "      <td>0.000000</td>\n",
       "      <td>0.0</td>\n",
       "      <td>5449.355104</td>\n",
       "      <td>5b8e595b8cebb006e39a3d289e465a5718996785008cbb...</td>\n",
       "      <td>bd1b475ded03bdb3ab78de2f74782ad855c3c4b085d167...</td>\n",
       "      <td>0</td>\n",
       "      <td>0</td>\n",
       "      <td>0</td>\n",
       "      <td>NaN</td>\n",
       "      <td>0.0</td>\n",
       "    </tr>\n",
       "    <tr>\n",
       "      <th>2</th>\n",
       "      <td>202204</td>\n",
       "      <td>b38db111537bc0ebf7297373c3ba7114b6b74751195607...</td>\n",
       "      <td>0095dd8326c84eb25f2a2f888de98d29201dc9bd918829...</td>\n",
       "      <td>1080120.0</td>\n",
       "      <td>716760.0</td>\n",
       "      <td>0</td>\n",
       "      <td>1</td>\n",
       "      <td>0.0</td>\n",
       "      <td>0.0</td>\n",
       "      <td>1.0</td>\n",
       "      <td>...</td>\n",
       "      <td>0.000000</td>\n",
       "      <td>0.0</td>\n",
       "      <td>7566.943466</td>\n",
       "      <td>404a18af35694f85854d87b70591b07c315b4ce5f5c7cf...</td>\n",
       "      <td>6eceace9a0758d06fca1f7c802c8ae57ae21361ae0e6a3...</td>\n",
       "      <td>1</td>\n",
       "      <td>0</td>\n",
       "      <td>0</td>\n",
       "      <td>NaN</td>\n",
       "      <td>0.0</td>\n",
       "    </tr>\n",
       "    <tr>\n",
       "      <th>3</th>\n",
       "      <td>202204</td>\n",
       "      <td>b996b613a4f6cc9b938241b75a4fbde47bb8606938159b...</td>\n",
       "      <td>255a24c2b9ecb57e21346616932f52c9a12924f7bf4738...</td>\n",
       "      <td>1080120.0</td>\n",
       "      <td>912240.0</td>\n",
       "      <td>1</td>\n",
       "      <td>0</td>\n",
       "      <td>0.0</td>\n",
       "      <td>0.0</td>\n",
       "      <td>0.0</td>\n",
       "      <td>...</td>\n",
       "      <td>0.000000</td>\n",
       "      <td>0.0</td>\n",
       "      <td>19392.310549</td>\n",
       "      <td>47a5a3efcbc0c9667600a36756e35afd8ed48df33f7e9d...</td>\n",
       "      <td>6b30ae99766ae521a61dccfbebed9aace3f62e0412aa6f...</td>\n",
       "      <td>1</td>\n",
       "      <td>0</td>\n",
       "      <td>0</td>\n",
       "      <td>NaN</td>\n",
       "      <td>0.0</td>\n",
       "    </tr>\n",
       "    <tr>\n",
       "      <th>4</th>\n",
       "      <td>202204</td>\n",
       "      <td>d1a5dd4012b5399691b0dfe3b24d4f6a303765e0364cc2...</td>\n",
       "      <td>28257d69713585f4741944029f476de65c9eda832e3063...</td>\n",
       "      <td>1079040.0</td>\n",
       "      <td>1007520.0</td>\n",
       "      <td>0</td>\n",
       "      <td>1</td>\n",
       "      <td>0.0</td>\n",
       "      <td>0.0</td>\n",
       "      <td>0.0</td>\n",
       "      <td>...</td>\n",
       "      <td>218.083858</td>\n",
       "      <td>0.0</td>\n",
       "      <td>4611.995497</td>\n",
       "      <td>5b8e595b8cebb006e39a3d289e465a5718996785008cbb...</td>\n",
       "      <td>bd1b475ded03bdb3ab78de2f74782ad855c3c4b085d167...</td>\n",
       "      <td>1</td>\n",
       "      <td>0</td>\n",
       "      <td>0</td>\n",
       "      <td>NaN</td>\n",
       "      <td>0.0</td>\n",
       "    </tr>\n",
       "  </tbody>\n",
       "</table>\n",
       "<p>5 rows × 68 columns</p>\n",
       "</div>"
      ],
      "text/plain": [
       "   NUMPERIODO                                 nro_documento_hash  \\\n",
       "0      202204  5848c849c6e33ff61bc87f63781cec2cf5a38811446ec1...   \n",
       "1      202204  4623594982b1da7de047b2a10eba7533cc83a1b242167d...   \n",
       "2      202204  b38db111537bc0ebf7297373c3ba7114b6b74751195607...   \n",
       "3      202204  b996b613a4f6cc9b938241b75a4fbde47bb8606938159b...   \n",
       "4      202204  d1a5dd4012b5399691b0dfe3b24d4f6a303765e0364cc2...   \n",
       "\n",
       "                                   nro_telefono_hash  \\\n",
       "0  ac8e7810e7d278b75f99a38183357eb28a2cb582f1875a...   \n",
       "1  93d2534f78d216261f0e0ce2e4d3e938f1d03fb8a4c766...   \n",
       "2  0095dd8326c84eb25f2a2f888de98d29201dc9bd918829...   \n",
       "3  255a24c2b9ecb57e21346616932f52c9a12924f7bf4738...   \n",
       "4  28257d69713585f4741944029f476de65c9eda832e3063...   \n",
       "\n",
       "   FECACTIVACIONCONTRATO_INT  FECINGRESOCLIENTE_INT  tipo1  tipo2  \\\n",
       "0                  1080060.0              1079280.0      1      0   \n",
       "1                  1080060.0               993180.0      1      0   \n",
       "2                  1080120.0               716760.0      0      1   \n",
       "3                  1080120.0               912240.0      1      0   \n",
       "4                  1079040.0              1007520.0      0      1   \n",
       "\n",
       "   VCHMESADENDA  VCHPENALIDAD  alto  ...  trafico_app_8  trafico_app_9  \\\n",
       "0           0.0           0.0   0.0  ...       0.000000            0.0   \n",
       "1           0.0           0.0   1.0  ...       0.000000            0.0   \n",
       "2           0.0           0.0   1.0  ...       0.000000            0.0   \n",
       "3           0.0           0.0   0.0  ...       0.000000            0.0   \n",
       "4           0.0           0.0   0.0  ...     218.083858            0.0   \n",
       "\n",
       "   trafico_total                                               GIRO  \\\n",
       "0   21631.486330  5b8e595b8cebb006e39a3d289e465a5718996785008cbb...   \n",
       "1    5449.355104  5b8e595b8cebb006e39a3d289e465a5718996785008cbb...   \n",
       "2    7566.943466  404a18af35694f85854d87b70591b07c315b4ce5f5c7cf...   \n",
       "3   19392.310549  47a5a3efcbc0c9667600a36756e35afd8ed48df33f7e9d...   \n",
       "4    4611.995497  5b8e595b8cebb006e39a3d289e465a5718996785008cbb...   \n",
       "\n",
       "                                             SUBGIRO  TIENE_PROD_1  \\\n",
       "0  bd1b475ded03bdb3ab78de2f74782ad855c3c4b085d167...             0   \n",
       "1  bd1b475ded03bdb3ab78de2f74782ad855c3c4b085d167...             0   \n",
       "2  6eceace9a0758d06fca1f7c802c8ae57ae21361ae0e6a3...             1   \n",
       "3  6b30ae99766ae521a61dccfbebed9aace3f62e0412aa6f...             1   \n",
       "4  bd1b475ded03bdb3ab78de2f74782ad855c3c4b085d167...             1   \n",
       "\n",
       "   TIENE_PROD_2  TIENE_PROD_3  TARGET  PREV_TARGET  \n",
       "0             0             0     NaN          0.0  \n",
       "1             0             0     NaN          0.0  \n",
       "2             0             0     NaN          0.0  \n",
       "3             0             0     NaN          0.0  \n",
       "4             0             0     NaN          0.0  \n",
       "\n",
       "[5 rows x 68 columns]"
      ]
     },
     "execution_count": 110,
     "metadata": {},
     "output_type": "execute_result"
    }
   ],
   "source": [
    "test = pd.read_csv(\"Dataset test.csv\")\n",
    "test.head()"
   ]
  },
  {
   "cell_type": "code",
   "execution_count": 4,
   "metadata": {},
   "outputs": [
    {
     "data": {
      "text/plain": [
       "Index(['NUMPERIODO', 'nro_documento_hash', 'nro_telefono_hash',\n",
       "       'FECACTIVACIONCONTRATO_INT', 'FECINGRESOCLIENTE_INT', 'tipo1', 'tipo2',\n",
       "       'VCHMESADENDA', 'VCHPENALIDAD', 'alto', 'bajo', 'medio', 'muy alto',\n",
       "       'NRO_GRUPOS', 'grupo_2', 'grupo_1', 'grupo_11', 'grupo_5', 'grupo_9',\n",
       "       'grupo_10', 'grupo_3', 'grupo_7', 'grupo_4', 'grupo_8', 'grupo_6',\n",
       "       'MINUTOS1', 'GIGAS1', 'MENSAJES1', 'MINUTOS2', 'GIGAS2', 'MENSAJES2',\n",
       "       'MINUTOS3', 'GIGAS3', 'MENSAJES3', 'MINUTOS_TOTAL', 'MENSAJES_TOTAL',\n",
       "       'GIGAS_TOTAL', 'MARCA', 'MODELO', 'OS', 'SMARTPHONE', 'gamma_1',\n",
       "       'gamma_2', 'gamma_3', 'gamma_4', 'gamma_5', 'gamma_6', 'gamma_7',\n",
       "       'LANZAMIENTO_INT', 'mins_flujo_1', 'mins_flujo_2', 'trafico_app_1',\n",
       "       'trafico_app_2', 'trafico_app_3', 'trafico_app_4', 'trafico_app_5',\n",
       "       'trafico_app_6', 'trafico_app_7', 'trafico_app_8', 'trafico_app_9',\n",
       "       'trafico_total', 'GIRO', 'SUBGIRO', 'TIENE_PROD_1', 'TIENE_PROD_2',\n",
       "       'TIENE_PROD_3', 'TARGET', 'PREV_TARGET'],\n",
       "      dtype='object')"
      ]
     },
     "execution_count": 4,
     "metadata": {},
     "output_type": "execute_result"
    }
   ],
   "source": [
    "train.columns"
   ]
  },
  {
   "cell_type": "code",
   "execution_count": 5,
   "metadata": {},
   "outputs": [
    {
     "data": {
      "text/plain": [
       "8"
      ]
     },
     "execution_count": 5,
     "metadata": {},
     "output_type": "execute_result"
    }
   ],
   "source": [
    "corr_df = train.corr()\n",
    "corr_df.isnull().all(axis = 0).sum()"
   ]
  },
  {
   "cell_type": "markdown",
   "metadata": {},
   "source": [
    "Existen 8 filas que tienen valores NaN en la matriz de correlación, esto quiere decir que dichas variables no guardan correlación con las demás, por lo que se reemplazarán esos valores en la matriz con ceros."
   ]
  },
  {
   "cell_type": "code",
   "execution_count": 6,
   "metadata": {},
   "outputs": [],
   "source": [
    "corr_df.fillna(0, inplace = True)"
   ]
  },
  {
   "cell_type": "code",
   "execution_count": 7,
   "metadata": {},
   "outputs": [
    {
     "data": {
      "text/plain": [
       "TARGET           1.000000\n",
       "PREV_TARGET      0.380707\n",
       "mins_flujo_1     0.039328\n",
       "NRO_GRUPOS       0.039304\n",
       "grupo_1          0.036447\n",
       "trafico_total    0.032413\n",
       "grupo_6          0.031059\n",
       "grupo_10         0.026439\n",
       "grupo_8          0.026224\n",
       "mins_flujo_2     0.024990\n",
       "Name: TARGET, dtype: float64"
      ]
     },
     "execution_count": 7,
     "metadata": {},
     "output_type": "execute_result"
    }
   ],
   "source": [
    "corr_target = np.abs(corr_df['TARGET']).sort_values(ascending = False)\n",
    "corr_target[:10]"
   ]
  },
  {
   "cell_type": "code",
   "execution_count": 8,
   "metadata": {},
   "outputs": [
    {
     "data": {
      "text/plain": [
       "array(['TARGET', 'PREV_TARGET', 'mins_flujo_1', 'NRO_GRUPOS', 'grupo_1',\n",
       "       'trafico_total', 'grupo_6', 'grupo_10', 'grupo_8', 'mins_flujo_2'],\n",
       "      dtype=object)"
      ]
     },
     "execution_count": 8,
     "metadata": {},
     "output_type": "execute_result"
    }
   ],
   "source": [
    "importance = corr_target.index.to_numpy()\n",
    "importance[:10]"
   ]
  },
  {
   "cell_type": "code",
   "execution_count": 10,
   "metadata": {},
   "outputs": [
    {
     "data": {
      "text/plain": [
       "[]"
      ]
     },
     "execution_count": 10,
     "metadata": {},
     "output_type": "execute_result"
    },
    {
     "data": {
      "image/png": "[encoded data removed]",
      "text/plain": [
       "<Figure size 1080x576 with 2 Axes>"
      ]
     },
     "metadata": {
      "needs_background": "light"
     },
     "output_type": "display_data"
    }
   ],
   "source": [
    "plt.figure(figsize = (15,8))\n",
    "sns.heatmap(corr_df.loc[importance[:10], importance[:10]], annot = True, square = True)\n",
    "plt.title('Matriz de correlación (10 variables)', size = 'xx-large', weight = 'bold')\n",
    "\n",
    "plt.plot()"
   ]
  },
  {
   "cell_type": "markdown",
   "metadata": {},
   "source": [
    "Vemos que la variables que guarda mayor correlación con la variable objetivo es *PREV_TARGET* (0.39), es decir, la renovación de un equipo depende en mayor medida si dicho equipo ha sido renovado el mes pasado. Las demás variables presentan una correlación considerablemente menor (la décima parte). \n",
    "\n",
    "Adicionalmente, se guardó el orden de la importancia de las variables predictoras en un arreglo que será utilizado para determinar el número óptimo de variables a utilizar en el modelo de regresión logística."
   ]
  },
  {
   "cell_type": "code",
   "execution_count": 11,
   "metadata": {},
   "outputs": [],
   "source": [
    "importance = np.delete(importance, 0)"
   ]
  },
  {
   "cell_type": "code",
   "execution_count": 12,
   "metadata": {},
   "outputs": [
    {
     "data": {
      "text/plain": [
       "(547995, 68)"
      ]
     },
     "execution_count": 12,
     "metadata": {},
     "output_type": "execute_result"
    }
   ],
   "source": [
    "train.shape"
   ]
  },
  {
   "cell_type": "markdown",
   "metadata": {},
   "source": [
    "Existen casi 600 mil registros, por lo que el conjunto de entrenamiento se dividirá en 3 datasets:\n",
    "* Train set: datos para entrenar los modelos (96%)\n",
    "* Dev set: datos para comparar los modelos (2%: 11K)\n",
    "* Test set: datos para probar los modelos (2%: 11K)\n",
    "\n",
    "Los datasets de validación y prueba deben contener una cantidad de registros positivos (TARGET = 1) que refleje la proporción de registros positivos existentes en el dataset general."
   ]
  },
  {
   "cell_type": "code",
   "execution_count": 13,
   "metadata": {},
   "outputs": [
    {
     "data": {
      "text/plain": [
       "(16472, 68)"
      ]
     },
     "execution_count": 13,
     "metadata": {},
     "output_type": "execute_result"
    }
   ],
   "source": [
    "pos_records = train[train['TARGET'] == 1]\n",
    "pos_records.shape"
   ]
  },
  {
   "cell_type": "code",
   "execution_count": 14,
   "metadata": {},
   "outputs": [
    {
     "data": {
      "text/plain": [
       "(531523, 68)"
      ]
     },
     "execution_count": 14,
     "metadata": {},
     "output_type": "execute_result"
    }
   ],
   "source": [
    "neg_records = train[train['TARGET'] == 0]\n",
    "neg_records.shape"
   ]
  },
  {
   "cell_type": "code",
   "execution_count": 15,
   "metadata": {},
   "outputs": [],
   "source": [
    "X_pos = pos_records.loc[:, pos_records.columns != \"TARGET\"]\n",
    "Y_pos = pos_records.loc[:, \"TARGET\"]\n",
    "X_neg = neg_records.loc[:, neg_records.columns != \"TARGET\"]\n",
    "Y_neg = neg_records.loc[:, \"TARGET\"]"
   ]
  },
  {
   "cell_type": "code",
   "execution_count": 16,
   "metadata": {},
   "outputs": [],
   "source": [
    "X_train_pos, X_rem_pos, Y_train_pos, Y_rem_pos = train_test_split(X_pos, Y_pos, test_size = 0.04, shuffle = True, random_state = 0)\n",
    "X_dev_pos, X_test_pos, Y_dev_pos, Y_test_pos = train_test_split(X_rem_pos, Y_rem_pos, test_size = 0.5, shuffle = True, random_state = 0)\n",
    "\n",
    "X_train_neg, X_rem_neg, Y_train_neg, Y_rem_neg = train_test_split(X_neg, Y_neg, test_size = 0.04, shuffle = True, random_state = 0)\n",
    "X_dev_neg, X_test_neg, Y_dev_neg, Y_test_neg = train_test_split(X_rem_neg, Y_rem_neg, test_size = 0.5, shuffle = True, random_state = 0)\n",
    "\n",
    "X_train = pd.concat([X_train_pos, X_train_neg], axis = 0)\n",
    "Y_train = pd.concat([Y_train_pos, Y_train_neg], axis = 0)\n",
    "X_dev = pd.concat([X_dev_pos, X_dev_neg], axis = 0)\n",
    "Y_dev = pd.concat([Y_dev_pos, Y_dev_neg], axis = 0)\n",
    "X_test = pd.concat([X_test_pos, X_test_neg], axis = 0)\n",
    "Y_test = pd.concat([Y_test_pos, Y_test_neg], axis = 0)"
   ]
  },
  {
   "cell_type": "code",
   "execution_count": 17,
   "metadata": {},
   "outputs": [
    {
     "name": "stdout",
     "output_type": "stream",
     "text": [
      "X_train size: (526075, 67)\n",
      "Y_train size: (526075,)\n",
      "X_dev size: (10959, 67)\n",
      "Y_dev size: (10959,)\n",
      "X_test size: (10961, 67)\n",
      "Y_test size: (10961,)\n"
     ]
    }
   ],
   "source": [
    "print(\"X_train size: {}\".format(X_train.shape))\n",
    "print(\"Y_train size: {}\".format(Y_train.shape))\n",
    "print(\"X_dev size: {}\".format(X_dev.shape))\n",
    "print(\"Y_dev size: {}\".format(Y_dev.shape))\n",
    "print(\"X_test size: {}\".format(X_test.shape))\n",
    "print(\"Y_test size: {}\".format(Y_test.shape))"
   ]
  },
  {
   "cell_type": "code",
   "execution_count": 18,
   "metadata": {},
   "outputs": [
    {
     "name": "stdout",
     "output_type": "stream",
     "text": [
      "Proportion train set: 3.006 %\n",
      "Proportion dev set: 3.002 %\n",
      "Proportion test set: 3.011 %\n"
     ]
    }
   ],
   "source": [
    "print(\"Proportion train set: {:.3f} %\".format(Y_train.value_counts()[1]/Y_train.shape[0] * 100))\n",
    "print(\"Proportion dev set: {:.3f} %\".format(Y_dev.value_counts()[1]/Y_dev.shape[0] * 100))\n",
    "print(\"Proportion test set: {:.3f} %\".format(Y_test.value_counts()[1]/Y_test.shape[0] * 100))"
   ]
  },
  {
   "cell_type": "code",
   "execution_count": 138,
   "metadata": {},
   "outputs": [
    {
     "name": "stdout",
     "output_type": "stream",
     "text": [
      "Num. variables: [10 20 30 40 50 60 67]\n",
      "C: [1.e-03 1.e-02 1.e-01 1.e+00 1.e+01 1.e+02 1.e+03]\n"
     ]
    }
   ],
   "source": [
    "num_variables = np.append(np.arange(10, 70, 10), np.array([X_train.shape[1]]))\n",
    "C = np.logspace(-3, 3, 7)\n",
    "print(\"Num. variables: {}\".format(num_variables))\n",
    "print(\"C: {}\".format(C))"
   ]
  },
  {
   "cell_type": "code",
   "execution_count": 142,
   "metadata": {},
   "outputs": [],
   "source": [
    "import warnings\n",
    "warnings.filterwarnings(\"ignore\")"
   ]
  },
  {
   "cell_type": "code",
   "execution_count": 144,
   "metadata": {},
   "outputs": [
    {
     "name": "stdout",
     "output_type": "stream",
     "text": [
      "C = 0.001\n",
      "Nro variables = 67\n",
      "Train score: 0.7192482184322834\n",
      "Dev score: 0.7157528586583248\n",
      "C = 0.01\n",
      "Nro variables = 67\n",
      "Train score: 0.7275494740197429\n",
      "Dev score: 0.7293217280907679\n",
      "C = 0.1\n",
      "Nro variables = 67\n",
      "Train score: 0.735112053603358\n",
      "Dev score: 0.7373797276161119\n",
      "C = 1.0\n",
      "Nro variables = 67\n",
      "Train score: 0.7386486511726266\n",
      "Dev score: 0.7367003405513444\n",
      "C = 10.0\n",
      "Nro variables = 67\n",
      "Train score: 0.7394018441296575\n",
      "Dev score: 0.736942529458692\n",
      "C = 100.0\n",
      "Nro variables = 67\n",
      "Train score: 0.7393779865989205\n",
      "Dev score: 0.7367540967669068\n",
      "C = 1000.0\n",
      "Nro variables = 67\n",
      "Train score: 0.7395013110497708\n",
      "Dev score: 0.7368047076719842\n"
     ]
    }
   ],
   "source": [
    "model = Pipeline([('scaler', MinMaxScaler()), ('logistic', LogisticRegression(penalty = 'l2', max_iter = 200))])\n",
    "results = []\n",
    "\n",
    "for c in C:\n",
    "\n",
    "    model.set_params(logistic__C = c)\n",
    "\n",
    "    for i in num_variables:\n",
    "\n",
    "        model.fit(X_train[importance[:i]], Y_train)\n",
    "\n",
    "        y_train_preds = model.predict_proba(X_train[importance[:i]])\n",
    "        auc_score_train = roc_auc_score(Y_train, y_train_preds[:,1])\n",
    "        \n",
    "        y_dev_preds = model.predict_proba(X_dev[importance[:i]])\n",
    "        auc_score_dev = roc_auc_score(Y_dev, y_dev_preds[:,1])\n",
    "        \n",
    "        if i == X_train.shape[1]:\n",
    "            print(\"C = {}\".format(c))\n",
    "            print(\"Nro variables = {}\".format(i))\n",
    "            print(\"Train score: {}\".format(auc_score_train))\n",
    "            print(\"Dev score: {}\".format(auc_score_dev))\n",
    "\n",
    "        results.append([c, i, auc_score_train, auc_score_dev])"
   ]
  },
  {
   "cell_type": "code",
   "execution_count": 152,
   "metadata": {},
   "outputs": [
    {
     "data": {
      "text/html": [
       "<div>\n",
       "<style scoped>\n",
       "    .dataframe tbody tr th:only-of-type {\n",
       "        vertical-align: middle;\n",
       "    }\n",
       "\n",
       "    .dataframe tbody tr th {\n",
       "        vertical-align: top;\n",
       "    }\n",
       "\n",
       "    .dataframe thead th {\n",
       "        text-align: right;\n",
       "    }\n",
       "</style>\n",
       "<table border=\"1\" class=\"dataframe\">\n",
       "  <thead>\n",
       "    <tr style=\"text-align: right;\">\n",
       "      <th></th>\n",
       "      <th>C</th>\n",
       "      <th>Nro variables</th>\n",
       "      <th>Train score</th>\n",
       "      <th>Dev score</th>\n",
       "    </tr>\n",
       "  </thead>\n",
       "  <tbody>\n",
       "    <tr>\n",
       "      <th>19</th>\n",
       "      <td>0.1</td>\n",
       "      <td>60.0</td>\n",
       "      <td>0.735112</td>\n",
       "      <td>0.737380</td>\n",
       "    </tr>\n",
       "    <tr>\n",
       "      <th>20</th>\n",
       "      <td>0.1</td>\n",
       "      <td>67.0</td>\n",
       "      <td>0.735112</td>\n",
       "      <td>0.737380</td>\n",
       "    </tr>\n",
       "    <tr>\n",
       "      <th>18</th>\n",
       "      <td>0.1</td>\n",
       "      <td>50.0</td>\n",
       "      <td>0.735102</td>\n",
       "      <td>0.737355</td>\n",
       "    </tr>\n",
       "    <tr>\n",
       "      <th>32</th>\n",
       "      <td>10.0</td>\n",
       "      <td>50.0</td>\n",
       "      <td>0.739492</td>\n",
       "      <td>0.737153</td>\n",
       "    </tr>\n",
       "    <tr>\n",
       "      <th>46</th>\n",
       "      <td>1000.0</td>\n",
       "      <td>50.0</td>\n",
       "      <td>0.739596</td>\n",
       "      <td>0.737017</td>\n",
       "    </tr>\n",
       "  </tbody>\n",
       "</table>\n",
       "</div>"
      ],
      "text/plain": [
       "         C  Nro variables  Train score  Dev score\n",
       "19     0.1           60.0     0.735112   0.737380\n",
       "20     0.1           67.0     0.735112   0.737380\n",
       "18     0.1           50.0     0.735102   0.737355\n",
       "32    10.0           50.0     0.739492   0.737153\n",
       "46  1000.0           50.0     0.739596   0.737017"
      ]
     },
     "execution_count": 152,
     "metadata": {},
     "output_type": "execute_result"
    }
   ],
   "source": [
    "results_df = pd.DataFrame(np.array(results), columns = ['C', 'Nro variables', 'Train score', 'Dev score'])\n",
    "results_df.sort_values(by = ['Dev score', 'Train score'], ascending = False).head()"
   ]
  },
  {
   "cell_type": "markdown",
   "metadata": {},
   "source": [
    "Vemos que el numero de variables óptimo está entre 50 y 67, mientras que el valor de C óptimo está entre 0.1 y 100 (no contaremos el 1000 en este caso). Volveremos a iterar sobre estos rangos para obtener los parámetros óptimos."
   ]
  },
  {
   "cell_type": "code",
   "execution_count": 157,
   "metadata": {},
   "outputs": [
    {
     "name": "stdout",
     "output_type": "stream",
     "text": [
      "Num. variables: [50 53 56 59 62 65 67]\n",
      "C: [ 0.1         0.21544347  0.46415888  1.          2.15443469  4.64158883\n",
      " 10.        ]\n"
     ]
    }
   ],
   "source": [
    "num_variables = np.append(np.arange(50, 67, 3), np.array([67]))\n",
    "C = np.logspace(-1, 1, 7)\n",
    "print(\"Num. variables: {}\".format(num_variables))\n",
    "print(\"C: {}\".format(C))"
   ]
  },
  {
   "cell_type": "code",
   "execution_count": 158,
   "metadata": {},
   "outputs": [
    {
     "name": "stdout",
     "output_type": "stream",
     "text": [
      "C = 0.1\n",
      "Nro variables = 67\n",
      "Train score: 0.735112053603358\n",
      "Dev score: 0.7373797276161119\n",
      "C = 0.21544346900318834\n",
      "Nro variables = 67\n",
      "Train score: 0.7369015875249669\n",
      "Dev score: 0.7379430241302503\n",
      "C = 0.46415888336127786\n",
      "Nro variables = 67\n",
      "Train score: 0.7380349019698274\n",
      "Dev score: 0.7368487420187747\n",
      "C = 1.0\n",
      "Nro variables = 67\n",
      "Train score: 0.7387265392232054\n",
      "Dev score: 0.7366883311840378\n",
      "C = 2.1544346900318834\n",
      "Nro variables = 67\n",
      "Train score: 0.7391583054901967\n",
      "Dev score: 0.7366337171565249\n",
      "C = 4.6415888336127775\n",
      "Nro variables = 67\n",
      "Train score: 0.7394428102095998\n",
      "Dev score: 0.7365336390956375\n",
      "C = 10.0\n",
      "Nro variables = 67\n",
      "Train score: 0.7396269434103845\n",
      "Dev score: 0.7365871093738832\n"
     ]
    }
   ],
   "source": [
    "model = Pipeline([('scaler', MinMaxScaler()), ('logistic', LogisticRegression(penalty = 'l2', max_iter = 500))])\n",
    "results2 = []\n",
    "\n",
    "for c in C:\n",
    "\n",
    "    model.set_params(logistic__C = c)\n",
    "\n",
    "    for i in num_variables:\n",
    "\n",
    "        model.fit(X_train[importance[:i]], Y_train)\n",
    "\n",
    "        y_train_preds = model.predict_proba(X_train[importance[:i]])\n",
    "        auc_score_train = roc_auc_score(Y_train, y_train_preds[:,1])\n",
    "        \n",
    "        y_dev_preds = model.predict_proba(X_dev[importance[:i]])\n",
    "        auc_score_dev = roc_auc_score(Y_dev, y_dev_preds[:,1])\n",
    "        \n",
    "        if i == X_train.shape[1]:\n",
    "            print(\"C = {}\".format(c))\n",
    "            print(\"Nro variables = {}\".format(i))\n",
    "            print(\"Train score: {}\".format(auc_score_train))\n",
    "            print(\"Dev score: {}\".format(auc_score_dev))\n",
    "\n",
    "        results2.append([c, i, auc_score_train, auc_score_dev])"
   ]
  },
  {
   "cell_type": "code",
   "execution_count": 159,
   "metadata": {},
   "outputs": [
    {
     "data": {
      "text/html": [
       "<div>\n",
       "<style scoped>\n",
       "    .dataframe tbody tr th:only-of-type {\n",
       "        vertical-align: middle;\n",
       "    }\n",
       "\n",
       "    .dataframe tbody tr th {\n",
       "        vertical-align: top;\n",
       "    }\n",
       "\n",
       "    .dataframe thead th {\n",
       "        text-align: right;\n",
       "    }\n",
       "</style>\n",
       "<table border=\"1\" class=\"dataframe\">\n",
       "  <thead>\n",
       "    <tr style=\"text-align: right;\">\n",
       "      <th></th>\n",
       "      <th>C</th>\n",
       "      <th>Nro variables</th>\n",
       "      <th>Train score</th>\n",
       "      <th>Dev score</th>\n",
       "    </tr>\n",
       "  </thead>\n",
       "  <tbody>\n",
       "    <tr>\n",
       "      <th>7</th>\n",
       "      <td>0.215443</td>\n",
       "      <td>50.0</td>\n",
       "      <td>0.736900</td>\n",
       "      <td>0.737980</td>\n",
       "    </tr>\n",
       "    <tr>\n",
       "      <th>8</th>\n",
       "      <td>0.215443</td>\n",
       "      <td>53.0</td>\n",
       "      <td>0.736909</td>\n",
       "      <td>0.737957</td>\n",
       "    </tr>\n",
       "    <tr>\n",
       "      <th>10</th>\n",
       "      <td>0.215443</td>\n",
       "      <td>59.0</td>\n",
       "      <td>0.736906</td>\n",
       "      <td>0.737949</td>\n",
       "    </tr>\n",
       "    <tr>\n",
       "      <th>9</th>\n",
       "      <td>0.215443</td>\n",
       "      <td>56.0</td>\n",
       "      <td>0.736902</td>\n",
       "      <td>0.737943</td>\n",
       "    </tr>\n",
       "    <tr>\n",
       "      <th>11</th>\n",
       "      <td>0.215443</td>\n",
       "      <td>62.0</td>\n",
       "      <td>0.736902</td>\n",
       "      <td>0.737943</td>\n",
       "    </tr>\n",
       "  </tbody>\n",
       "</table>\n",
       "</div>"
      ],
      "text/plain": [
       "           C  Nro variables  Train score  Dev score\n",
       "7   0.215443           50.0     0.736900   0.737980\n",
       "8   0.215443           53.0     0.736909   0.737957\n",
       "10  0.215443           59.0     0.736906   0.737949\n",
       "9   0.215443           56.0     0.736902   0.737943\n",
       "11  0.215443           62.0     0.736902   0.737943"
      ]
     },
     "execution_count": 159,
     "metadata": {},
     "output_type": "execute_result"
    }
   ],
   "source": [
    "results2_df = pd.DataFrame(np.array(results2), columns = ['C', 'Nro variables', 'Train score', 'Dev score'])\n",
    "results2_df.sort_values(by = ['Dev score', 'Train score'], ascending = False).head()"
   ]
  },
  {
   "cell_type": "markdown",
   "metadata": {},
   "source": [
    "Con esta iteración comprobamos que el valor óptimo de C es 0.215443, mientras que el número óptimo de variables a utilizar es 50. Con estos valores crearemos el modelo de regresión logística a utilizar."
   ]
  },
  {
   "cell_type": "code",
   "execution_count": 161,
   "metadata": {},
   "outputs": [
    {
     "name": "stdout",
     "output_type": "stream",
     "text": [
      "Train AUC score: 0.7369179323892856\n",
      "Dev AUC score: 0.7379687584887641\n",
      "Test AUC score: 0.7304250291457517\n"
     ]
    }
   ],
   "source": [
    "model = Pipeline([('scaler', MinMaxScaler()), ('logistic', LogisticRegression(C = 0.215443, penalty = 'l2', max_iter = 1000))])\n",
    "\n",
    "model.fit(X_train[importance[:50]], Y_train)\n",
    "\n",
    "y_train_preds = model.predict_proba(X_train[importance[:50]])\n",
    "auc_score_train = roc_auc_score(Y_train, y_train_preds[:,1])\n",
    "\n",
    "y_dev_preds = model.predict_proba(X_dev[importance[:50]])\n",
    "auc_score_dev = roc_auc_score(Y_dev, y_dev_preds[:,1])\n",
    "\n",
    "y_test_preds = model.predict_proba(X_test[importance[:50]])\n",
    "auc_score_test = roc_auc_score(Y_test, y_test_preds[:,1])\n",
    "\n",
    "print(\"Train AUC score: {}\".format(auc_score_train))\n",
    "print(\"Dev AUC score: {}\".format(auc_score_dev))\n",
    "print(\"Test AUC score: {}\".format(auc_score_test))"
   ]
  },
  {
   "cell_type": "markdown",
   "metadata": {},
   "source": [
    "Procedemos a guardar el modelo, para ello usaremos la librería *joblib*."
   ]
  },
  {
   "cell_type": "code",
   "execution_count": 162,
   "metadata": {},
   "outputs": [
    {
     "data": {
      "text/plain": [
       "['logistic_regresion_model.pkl']"
      ]
     },
     "execution_count": 162,
     "metadata": {},
     "output_type": "execute_result"
    }
   ],
   "source": [
    "import joblib\n",
    "\n",
    "joblib.dump(model, 'logistic_regresion_model.pkl')"
   ]
  },
  {
   "cell_type": "markdown",
   "metadata": {},
   "source": [
    "Finalmente, realizaremos las predicciones de la renovación para el mes de abril."
   ]
  },
  {
   "cell_type": "code",
   "execution_count": 167,
   "metadata": {},
   "outputs": [],
   "source": [
    "test.drop('TARGET', axis = 1, inplace = True)"
   ]
  },
  {
   "cell_type": "code",
   "execution_count": 169,
   "metadata": {},
   "outputs": [
    {
     "data": {
      "text/html": [
       "<div>\n",
       "<style scoped>\n",
       "    .dataframe tbody tr th:only-of-type {\n",
       "        vertical-align: middle;\n",
       "    }\n",
       "\n",
       "    .dataframe tbody tr th {\n",
       "        vertical-align: top;\n",
       "    }\n",
       "\n",
       "    .dataframe thead th {\n",
       "        text-align: right;\n",
       "    }\n",
       "</style>\n",
       "<table border=\"1\" class=\"dataframe\">\n",
       "  <thead>\n",
       "    <tr style=\"text-align: right;\">\n",
       "      <th></th>\n",
       "      <th>PREV_TARGET</th>\n",
       "      <th>mins_flujo_1</th>\n",
       "      <th>NRO_GRUPOS</th>\n",
       "      <th>grupo_1</th>\n",
       "      <th>trafico_total</th>\n",
       "      <th>grupo_6</th>\n",
       "      <th>grupo_10</th>\n",
       "      <th>grupo_8</th>\n",
       "      <th>mins_flujo_2</th>\n",
       "      <th>FECACTIVACIONCONTRATO_INT</th>\n",
       "      <th>...</th>\n",
       "      <th>GIGAS1</th>\n",
       "      <th>TIENE_PROD_2</th>\n",
       "      <th>MINUTOS_TOTAL</th>\n",
       "      <th>MINUTOS2</th>\n",
       "      <th>trafico_app_6</th>\n",
       "      <th>NUMPERIODO</th>\n",
       "      <th>gamma_2</th>\n",
       "      <th>trafico_app_7</th>\n",
       "      <th>trafico_app_8</th>\n",
       "      <th>trafico_app_1</th>\n",
       "    </tr>\n",
       "  </thead>\n",
       "  <tbody>\n",
       "    <tr>\n",
       "      <th>0</th>\n",
       "      <td>0.0</td>\n",
       "      <td>583.400000</td>\n",
       "      <td>8.0</td>\n",
       "      <td>1.0</td>\n",
       "      <td>21631.486330</td>\n",
       "      <td>1.0</td>\n",
       "      <td>1.0</td>\n",
       "      <td>1.0</td>\n",
       "      <td>626.033333</td>\n",
       "      <td>1080060.0</td>\n",
       "      <td>...</td>\n",
       "      <td>0.0</td>\n",
       "      <td>0</td>\n",
       "      <td>0.0</td>\n",
       "      <td>0.0</td>\n",
       "      <td>0.0</td>\n",
       "      <td>202204</td>\n",
       "      <td>0.0</td>\n",
       "      <td>0.00000</td>\n",
       "      <td>0.000000</td>\n",
       "      <td>0.294108</td>\n",
       "    </tr>\n",
       "    <tr>\n",
       "      <th>1</th>\n",
       "      <td>0.0</td>\n",
       "      <td>367.933333</td>\n",
       "      <td>2.0</td>\n",
       "      <td>0.0</td>\n",
       "      <td>5449.355104</td>\n",
       "      <td>1.0</td>\n",
       "      <td>0.0</td>\n",
       "      <td>1.0</td>\n",
       "      <td>733.216667</td>\n",
       "      <td>1080060.0</td>\n",
       "      <td>...</td>\n",
       "      <td>0.0</td>\n",
       "      <td>0</td>\n",
       "      <td>0.0</td>\n",
       "      <td>0.0</td>\n",
       "      <td>0.0</td>\n",
       "      <td>202204</td>\n",
       "      <td>0.0</td>\n",
       "      <td>0.00000</td>\n",
       "      <td>0.000000</td>\n",
       "      <td>0.074603</td>\n",
       "    </tr>\n",
       "    <tr>\n",
       "      <th>2</th>\n",
       "      <td>0.0</td>\n",
       "      <td>178.833333</td>\n",
       "      <td>2.0</td>\n",
       "      <td>0.0</td>\n",
       "      <td>7566.943466</td>\n",
       "      <td>1.0</td>\n",
       "      <td>0.0</td>\n",
       "      <td>1.0</td>\n",
       "      <td>258.266667</td>\n",
       "      <td>1080120.0</td>\n",
       "      <td>...</td>\n",
       "      <td>0.0</td>\n",
       "      <td>0</td>\n",
       "      <td>0.0</td>\n",
       "      <td>0.0</td>\n",
       "      <td>0.0</td>\n",
       "      <td>202204</td>\n",
       "      <td>0.0</td>\n",
       "      <td>0.00000</td>\n",
       "      <td>0.000000</td>\n",
       "      <td>0.000000</td>\n",
       "    </tr>\n",
       "    <tr>\n",
       "      <th>3</th>\n",
       "      <td>0.0</td>\n",
       "      <td>789.283333</td>\n",
       "      <td>6.0</td>\n",
       "      <td>1.0</td>\n",
       "      <td>19392.310549</td>\n",
       "      <td>1.0</td>\n",
       "      <td>1.0</td>\n",
       "      <td>1.0</td>\n",
       "      <td>794.816667</td>\n",
       "      <td>1080120.0</td>\n",
       "      <td>...</td>\n",
       "      <td>0.0</td>\n",
       "      <td>0</td>\n",
       "      <td>0.0</td>\n",
       "      <td>0.0</td>\n",
       "      <td>0.0</td>\n",
       "      <td>202204</td>\n",
       "      <td>0.0</td>\n",
       "      <td>0.00000</td>\n",
       "      <td>0.000000</td>\n",
       "      <td>0.206282</td>\n",
       "    </tr>\n",
       "    <tr>\n",
       "      <th>4</th>\n",
       "      <td>0.0</td>\n",
       "      <td>125.566667</td>\n",
       "      <td>5.0</td>\n",
       "      <td>1.0</td>\n",
       "      <td>4611.995497</td>\n",
       "      <td>1.0</td>\n",
       "      <td>1.0</td>\n",
       "      <td>1.0</td>\n",
       "      <td>256.616667</td>\n",
       "      <td>1079040.0</td>\n",
       "      <td>...</td>\n",
       "      <td>0.0</td>\n",
       "      <td>0</td>\n",
       "      <td>0.0</td>\n",
       "      <td>0.0</td>\n",
       "      <td>0.0</td>\n",
       "      <td>202204</td>\n",
       "      <td>0.0</td>\n",
       "      <td>2.03855</td>\n",
       "      <td>218.083858</td>\n",
       "      <td>19.561513</td>\n",
       "    </tr>\n",
       "  </tbody>\n",
       "</table>\n",
       "<p>5 rows × 50 columns</p>\n",
       "</div>"
      ],
      "text/plain": [
       "   PREV_TARGET  mins_flujo_1  NRO_GRUPOS  grupo_1  trafico_total  grupo_6  \\\n",
       "0          0.0    583.400000         8.0      1.0   21631.486330      1.0   \n",
       "1          0.0    367.933333         2.0      0.0    5449.355104      1.0   \n",
       "2          0.0    178.833333         2.0      0.0    7566.943466      1.0   \n",
       "3          0.0    789.283333         6.0      1.0   19392.310549      1.0   \n",
       "4          0.0    125.566667         5.0      1.0    4611.995497      1.0   \n",
       "\n",
       "   grupo_10  grupo_8  mins_flujo_2  FECACTIVACIONCONTRATO_INT  ...  GIGAS1  \\\n",
       "0       1.0      1.0    626.033333                  1080060.0  ...     0.0   \n",
       "1       0.0      1.0    733.216667                  1080060.0  ...     0.0   \n",
       "2       0.0      1.0    258.266667                  1080120.0  ...     0.0   \n",
       "3       1.0      1.0    794.816667                  1080120.0  ...     0.0   \n",
       "4       1.0      1.0    256.616667                  1079040.0  ...     0.0   \n",
       "\n",
       "   TIENE_PROD_2  MINUTOS_TOTAL  MINUTOS2  trafico_app_6  NUMPERIODO  gamma_2  \\\n",
       "0             0            0.0       0.0            0.0      202204      0.0   \n",
       "1             0            0.0       0.0            0.0      202204      0.0   \n",
       "2             0            0.0       0.0            0.0      202204      0.0   \n",
       "3             0            0.0       0.0            0.0      202204      0.0   \n",
       "4             0            0.0       0.0            0.0      202204      0.0   \n",
       "\n",
       "   trafico_app_7  trafico_app_8  trafico_app_1  \n",
       "0        0.00000       0.000000       0.294108  \n",
       "1        0.00000       0.000000       0.074603  \n",
       "2        0.00000       0.000000       0.000000  \n",
       "3        0.00000       0.000000       0.206282  \n",
       "4        2.03855     218.083858      19.561513  \n",
       "\n",
       "[5 rows x 50 columns]"
      ]
     },
     "execution_count": 169,
     "metadata": {},
     "output_type": "execute_result"
    }
   ],
   "source": [
    "test[importance[:50]].head()"
   ]
  },
  {
   "cell_type": "code",
   "execution_count": 173,
   "metadata": {},
   "outputs": [
    {
     "data": {
      "text/plain": [
       "array([[0.98720838, 0.01279162],\n",
       "       [0.98817351, 0.01182649],\n",
       "       [0.98925696, 0.01074304],\n",
       "       ...,\n",
       "       [0.98906101, 0.01093899],\n",
       "       [0.98933888, 0.01066112],\n",
       "       [0.9883049 , 0.0116951 ]])"
      ]
     },
     "execution_count": 173,
     "metadata": {},
     "output_type": "execute_result"
    }
   ],
   "source": [
    "target_abril = model.predict_proba(test[importance[:50]])\n",
    "target_abril"
   ]
  },
  {
   "cell_type": "code",
   "execution_count": 175,
   "metadata": {},
   "outputs": [
    {
     "data": {
      "text/html": [
       "<div>\n",
       "<style scoped>\n",
       "    .dataframe tbody tr th:only-of-type {\n",
       "        vertical-align: middle;\n",
       "    }\n",
       "\n",
       "    .dataframe tbody tr th {\n",
       "        vertical-align: top;\n",
       "    }\n",
       "\n",
       "    .dataframe thead th {\n",
       "        text-align: right;\n",
       "    }\n",
       "</style>\n",
       "<table border=\"1\" class=\"dataframe\">\n",
       "  <thead>\n",
       "    <tr style=\"text-align: right;\">\n",
       "      <th></th>\n",
       "      <th>nro_telefono_hash</th>\n",
       "      <th>TARGET</th>\n",
       "    </tr>\n",
       "  </thead>\n",
       "  <tbody>\n",
       "    <tr>\n",
       "      <th>0</th>\n",
       "      <td>ac8e7810e7d278b75f99a38183357eb28a2cb582f1875a...</td>\n",
       "      <td>0.012792</td>\n",
       "    </tr>\n",
       "    <tr>\n",
       "      <th>1</th>\n",
       "      <td>93d2534f78d216261f0e0ce2e4d3e938f1d03fb8a4c766...</td>\n",
       "      <td>0.011826</td>\n",
       "    </tr>\n",
       "    <tr>\n",
       "      <th>2</th>\n",
       "      <td>0095dd8326c84eb25f2a2f888de98d29201dc9bd918829...</td>\n",
       "      <td>0.010743</td>\n",
       "    </tr>\n",
       "    <tr>\n",
       "      <th>3</th>\n",
       "      <td>255a24c2b9ecb57e21346616932f52c9a12924f7bf4738...</td>\n",
       "      <td>0.011414</td>\n",
       "    </tr>\n",
       "    <tr>\n",
       "      <th>4</th>\n",
       "      <td>28257d69713585f4741944029f476de65c9eda832e3063...</td>\n",
       "      <td>0.015190</td>\n",
       "    </tr>\n",
       "  </tbody>\n",
       "</table>\n",
       "</div>"
      ],
      "text/plain": [
       "                                   nro_telefono_hash    TARGET\n",
       "0  ac8e7810e7d278b75f99a38183357eb28a2cb582f1875a...  0.012792\n",
       "1  93d2534f78d216261f0e0ce2e4d3e938f1d03fb8a4c766...  0.011826\n",
       "2  0095dd8326c84eb25f2a2f888de98d29201dc9bd918829...  0.010743\n",
       "3  255a24c2b9ecb57e21346616932f52c9a12924f7bf4738...  0.011414\n",
       "4  28257d69713585f4741944029f476de65c9eda832e3063...  0.015190"
      ]
     },
     "execution_count": 175,
     "metadata": {},
     "output_type": "execute_result"
    }
   ],
   "source": [
    "predictions = test[['nro_telefono_hash']]\n",
    "predictions['TARGET'] = target_abril[:,1]\n",
    "predictions.head()"
   ]
  },
  {
   "cell_type": "code",
   "execution_count": 177,
   "metadata": {},
   "outputs": [],
   "source": [
    "predictions.to_csv('logistic_regresion_predictions.csv', index = False)"
   ]
  }
 ],
 "metadata": {
  "kernelspec": {
   "display_name": "Python 3.9.7 ('base')",
   "language": "python",
   "name": "python3"
  },
  "language_info": {
   "codemirror_mode": {
    "name": "ipython",
    "version": 3
   },
   "file_extension": ".py",
   "mimetype": "text/x-python",
   "name": "python",
   "nbconvert_exporter": "python",
   "pygments_lexer": "ipython3",
   "version": "3.9.7"
  },
  "orig_nbformat": 4,
  "vscode": {
   "interpreter": {
    "hash": "0d769c236687fdea7235ec0689d0e9d0178f661227bf1e405e92f7a3c7339300"
   }
  }
 },
 "nbformat": 4,
 "nbformat_minor": 2
}
